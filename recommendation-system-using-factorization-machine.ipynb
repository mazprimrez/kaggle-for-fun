{
 "cells": [
  {
   "cell_type": "code",
   "execution_count": 1,
   "id": "2f032c84",
   "metadata": {
    "_cell_guid": "b1076dfc-b9ad-4769-8c92-a6c4dae69d19",
    "_uuid": "8f2839f25d086af736a60e9eeb907d3b93b6e0e5",
    "execution": {
     "iopub.execute_input": "2023-06-29T10:21:22.516940Z",
     "iopub.status.busy": "2023-06-29T10:21:22.516460Z",
     "iopub.status.idle": "2023-06-29T10:21:23.871737Z",
     "shell.execute_reply": "2023-06-29T10:21:23.870824Z"
    },
    "papermill": {
     "duration": 1.371327,
     "end_time": "2023-06-29T10:21:23.874330",
     "exception": false,
     "start_time": "2023-06-29T10:21:22.503003",
     "status": "completed"
    },
    "tags": []
   },
   "outputs": [
    {
     "name": "stdout",
     "output_type": "stream",
     "text": [
      "/kaggle/input/ecommerce-events-history-in-cosmetics-shop/2019-Nov.csv\n",
      "/kaggle/input/ecommerce-events-history-in-cosmetics-shop/2020-Feb.csv\n",
      "/kaggle/input/ecommerce-events-history-in-cosmetics-shop/2019-Oct.csv\n",
      "/kaggle/input/ecommerce-events-history-in-cosmetics-shop/2019-Dec.csv\n",
      "/kaggle/input/ecommerce-events-history-in-cosmetics-shop/2020-Jan.csv\n"
     ]
    }
   ],
   "source": [
    "# Tannotationshis Python 3 environment comes with many helpful analytics libraries installed\n",
    "# It is defined by the kaggle/python Docker image: https://github.com/kaggle/docker-python\n",
    "# For example, here's several helpful packages to load\n",
    "\n",
    "import numpy as np # linear algebra\n",
    "import pandas as pd # data processing, CSV file I/O (e.g. pd.read_csv)\n",
    "from tqdm import tqdm\n",
    "import matplotlib.pyplot as plt\n",
    "import seaborn as sns\n",
    "\n",
    "# Input data files are available in the read-only \"../input/\" directory\n",
    "# For example, running this (by clicking run or pressing Shift+Enter) will list all files under the input directory\n",
    "\n",
    "import os\n",
    "dataset_list = []\n",
    "for dirname, _, filenames in os.walk('/kaggle/input'):\n",
    "    for filename in filenames:\n",
    "        dataset_list.append(os.path.join(dirname, filename))\n",
    "        print(os.path.join(dirname, filename))\n",
    "\n",
    "# You can write up to 20GB to the current directory (/kaggle/working/) that gets preserved as output when you create a version using \"Save & Run All\" \n",
    "# You can also write temporary files to /kaggle/temp/, but they won't be saved outside of the current session"
   ]
  },
  {
   "cell_type": "code",
   "execution_count": 2,
   "id": "c6f7f64c",
   "metadata": {
    "execution": {
     "iopub.execute_input": "2023-06-29T10:21:23.895304Z",
     "iopub.status.busy": "2023-06-29T10:21:23.893872Z",
     "iopub.status.idle": "2023-06-29T10:21:36.966281Z",
     "shell.execute_reply": "2023-06-29T10:21:36.965228Z"
    },
    "papermill": {
     "duration": 13.091768,
     "end_time": "2023-06-29T10:21:36.975542",
     "exception": false,
     "start_time": "2023-06-29T10:21:23.883774",
     "status": "completed"
    },
    "tags": []
   },
   "outputs": [
    {
     "name": "stderr",
     "output_type": "stream",
     "text": [
      "  0%|          | 0/5 [00:13<?, ?it/s]\n"
     ]
    }
   ],
   "source": [
    "df_list = []\n",
    "for file_path in tqdm(dataset_list):\n",
    "    df_list.append(pd.read_csv(file_path))\n",
    "    break"
   ]
  },
  {
   "cell_type": "code",
   "execution_count": 3,
   "id": "9c6f67a8",
   "metadata": {
    "execution": {
     "iopub.execute_input": "2023-06-29T10:21:37.001931Z",
     "iopub.status.busy": "2023-06-29T10:21:37.001616Z",
     "iopub.status.idle": "2023-06-29T10:21:37.374310Z",
     "shell.execute_reply": "2023-06-29T10:21:37.373131Z"
    },
    "papermill": {
     "duration": 0.385887,
     "end_time": "2023-06-29T10:21:37.376832",
     "exception": false,
     "start_time": "2023-06-29T10:21:36.990945",
     "status": "completed"
    },
    "tags": []
   },
   "outputs": [
    {
     "data": {
      "text/html": [
       "<div>\n",
       "<style scoped>\n",
       "    .dataframe tbody tr th:only-of-type {\n",
       "        vertical-align: middle;\n",
       "    }\n",
       "\n",
       "    .dataframe tbody tr th {\n",
       "        vertical-align: top;\n",
       "    }\n",
       "\n",
       "    .dataframe thead th {\n",
       "        text-align: right;\n",
       "    }\n",
       "</style>\n",
       "<table border=\"1\" class=\"dataframe\">\n",
       "  <thead>\n",
       "    <tr style=\"text-align: right;\">\n",
       "      <th></th>\n",
       "      <th>event_time</th>\n",
       "      <th>event_type</th>\n",
       "      <th>product_id</th>\n",
       "      <th>category_id</th>\n",
       "      <th>category_code</th>\n",
       "      <th>brand</th>\n",
       "      <th>price</th>\n",
       "      <th>user_id</th>\n",
       "      <th>user_session</th>\n",
       "    </tr>\n",
       "  </thead>\n",
       "  <tbody>\n",
       "    <tr>\n",
       "      <th>0</th>\n",
       "      <td>2019-11-01 00:00:02 UTC</td>\n",
       "      <td>view</td>\n",
       "      <td>5802432</td>\n",
       "      <td>1487580009286598681</td>\n",
       "      <td>NaN</td>\n",
       "      <td>NaN</td>\n",
       "      <td>0.32</td>\n",
       "      <td>562076640</td>\n",
       "      <td>09fafd6c-6c99-46b1-834f-33527f4de241</td>\n",
       "    </tr>\n",
       "    <tr>\n",
       "      <th>1</th>\n",
       "      <td>2019-11-01 00:00:09 UTC</td>\n",
       "      <td>cart</td>\n",
       "      <td>5844397</td>\n",
       "      <td>1487580006317032337</td>\n",
       "      <td>NaN</td>\n",
       "      <td>NaN</td>\n",
       "      <td>2.38</td>\n",
       "      <td>553329724</td>\n",
       "      <td>2067216c-31b5-455d-a1cc-af0575a34ffb</td>\n",
       "    </tr>\n",
       "    <tr>\n",
       "      <th>2</th>\n",
       "      <td>2019-11-01 00:00:10 UTC</td>\n",
       "      <td>view</td>\n",
       "      <td>5837166</td>\n",
       "      <td>1783999064103190764</td>\n",
       "      <td>NaN</td>\n",
       "      <td>pnb</td>\n",
       "      <td>22.22</td>\n",
       "      <td>556138645</td>\n",
       "      <td>57ed222e-a54a-4907-9944-5a875c2d7f4f</td>\n",
       "    </tr>\n",
       "    <tr>\n",
       "      <th>3</th>\n",
       "      <td>2019-11-01 00:00:11 UTC</td>\n",
       "      <td>cart</td>\n",
       "      <td>5876812</td>\n",
       "      <td>1487580010100293687</td>\n",
       "      <td>NaN</td>\n",
       "      <td>jessnail</td>\n",
       "      <td>3.16</td>\n",
       "      <td>564506666</td>\n",
       "      <td>186c1951-8052-4b37-adce-dd9644b1d5f7</td>\n",
       "    </tr>\n",
       "    <tr>\n",
       "      <th>4</th>\n",
       "      <td>2019-11-01 00:00:24 UTC</td>\n",
       "      <td>remove_from_cart</td>\n",
       "      <td>5826182</td>\n",
       "      <td>1487580007483048900</td>\n",
       "      <td>NaN</td>\n",
       "      <td>NaN</td>\n",
       "      <td>3.33</td>\n",
       "      <td>553329724</td>\n",
       "      <td>2067216c-31b5-455d-a1cc-af0575a34ffb</td>\n",
       "    </tr>\n",
       "    <tr>\n",
       "      <th>...</th>\n",
       "      <td>...</td>\n",
       "      <td>...</td>\n",
       "      <td>...</td>\n",
       "      <td>...</td>\n",
       "      <td>...</td>\n",
       "      <td>...</td>\n",
       "      <td>...</td>\n",
       "      <td>...</td>\n",
       "      <td>...</td>\n",
       "    </tr>\n",
       "    <tr>\n",
       "      <th>4635832</th>\n",
       "      <td>2019-11-30 23:59:46 UTC</td>\n",
       "      <td>view</td>\n",
       "      <td>5830317</td>\n",
       "      <td>1487580009496313889</td>\n",
       "      <td>NaN</td>\n",
       "      <td>NaN</td>\n",
       "      <td>4.76</td>\n",
       "      <td>457678989</td>\n",
       "      <td>ee50b160-a4db-4722-8751-6812c5b38295</td>\n",
       "    </tr>\n",
       "    <tr>\n",
       "      <th>4635833</th>\n",
       "      <td>2019-11-30 23:59:47 UTC</td>\n",
       "      <td>view</td>\n",
       "      <td>5733064</td>\n",
       "      <td>1487580004832248652</td>\n",
       "      <td>NaN</td>\n",
       "      <td>beautix</td>\n",
       "      <td>9.37</td>\n",
       "      <td>422196217</td>\n",
       "      <td>ab5e6dd5-8700-4ecc-a300-9f1eca5d1a95</td>\n",
       "    </tr>\n",
       "    <tr>\n",
       "      <th>4635834</th>\n",
       "      <td>2019-11-30 23:59:47 UTC</td>\n",
       "      <td>view</td>\n",
       "      <td>5867785</td>\n",
       "      <td>1487580007835370453</td>\n",
       "      <td>NaN</td>\n",
       "      <td>kims</td>\n",
       "      <td>31.10</td>\n",
       "      <td>572579084</td>\n",
       "      <td>d42865b7-7e04-4038-9be0-a59165625f06</td>\n",
       "    </tr>\n",
       "    <tr>\n",
       "      <th>4635835</th>\n",
       "      <td>2019-11-30 23:59:57 UTC</td>\n",
       "      <td>view</td>\n",
       "      <td>5779406</td>\n",
       "      <td>2151191071051219817</td>\n",
       "      <td>NaN</td>\n",
       "      <td>NaN</td>\n",
       "      <td>2.86</td>\n",
       "      <td>540006764</td>\n",
       "      <td>d4b5aa49-d731-40f1-92f1-277416d6e063</td>\n",
       "    </tr>\n",
       "    <tr>\n",
       "      <th>4635836</th>\n",
       "      <td>2019-11-30 23:59:58 UTC</td>\n",
       "      <td>view</td>\n",
       "      <td>5880201</td>\n",
       "      <td>2029731308699124089</td>\n",
       "      <td>NaN</td>\n",
       "      <td>rasyan</td>\n",
       "      <td>3.76</td>\n",
       "      <td>579969854</td>\n",
       "      <td>e9fa2c3e-8c9e-448c-880a-21ca57c18b3b</td>\n",
       "    </tr>\n",
       "  </tbody>\n",
       "</table>\n",
       "<p>4635837 rows × 9 columns</p>\n",
       "</div>"
      ],
      "text/plain": [
       "                      event_time        event_type  product_id  \\\n",
       "0        2019-11-01 00:00:02 UTC              view     5802432   \n",
       "1        2019-11-01 00:00:09 UTC              cart     5844397   \n",
       "2        2019-11-01 00:00:10 UTC              view     5837166   \n",
       "3        2019-11-01 00:00:11 UTC              cart     5876812   \n",
       "4        2019-11-01 00:00:24 UTC  remove_from_cart     5826182   \n",
       "...                          ...               ...         ...   \n",
       "4635832  2019-11-30 23:59:46 UTC              view     5830317   \n",
       "4635833  2019-11-30 23:59:47 UTC              view     5733064   \n",
       "4635834  2019-11-30 23:59:47 UTC              view     5867785   \n",
       "4635835  2019-11-30 23:59:57 UTC              view     5779406   \n",
       "4635836  2019-11-30 23:59:58 UTC              view     5880201   \n",
       "\n",
       "                 category_id category_code     brand  price    user_id  \\\n",
       "0        1487580009286598681           NaN       NaN   0.32  562076640   \n",
       "1        1487580006317032337           NaN       NaN   2.38  553329724   \n",
       "2        1783999064103190764           NaN       pnb  22.22  556138645   \n",
       "3        1487580010100293687           NaN  jessnail   3.16  564506666   \n",
       "4        1487580007483048900           NaN       NaN   3.33  553329724   \n",
       "...                      ...           ...       ...    ...        ...   \n",
       "4635832  1487580009496313889           NaN       NaN   4.76  457678989   \n",
       "4635833  1487580004832248652           NaN   beautix   9.37  422196217   \n",
       "4635834  1487580007835370453           NaN      kims  31.10  572579084   \n",
       "4635835  2151191071051219817           NaN       NaN   2.86  540006764   \n",
       "4635836  2029731308699124089           NaN    rasyan   3.76  579969854   \n",
       "\n",
       "                                 user_session  \n",
       "0        09fafd6c-6c99-46b1-834f-33527f4de241  \n",
       "1        2067216c-31b5-455d-a1cc-af0575a34ffb  \n",
       "2        57ed222e-a54a-4907-9944-5a875c2d7f4f  \n",
       "3        186c1951-8052-4b37-adce-dd9644b1d5f7  \n",
       "4        2067216c-31b5-455d-a1cc-af0575a34ffb  \n",
       "...                                       ...  \n",
       "4635832  ee50b160-a4db-4722-8751-6812c5b38295  \n",
       "4635833  ab5e6dd5-8700-4ecc-a300-9f1eca5d1a95  \n",
       "4635834  d42865b7-7e04-4038-9be0-a59165625f06  \n",
       "4635835  d4b5aa49-d731-40f1-92f1-277416d6e063  \n",
       "4635836  e9fa2c3e-8c9e-448c-880a-21ca57c18b3b  \n",
       "\n",
       "[4635837 rows x 9 columns]"
      ]
     },
     "execution_count": 3,
     "metadata": {},
     "output_type": "execute_result"
    }
   ],
   "source": [
    "dataset = pd.concat(df_list)\n",
    "dataset"
   ]
  },
  {
   "cell_type": "code",
   "execution_count": 4,
   "id": "066a1fa0",
   "metadata": {
    "execution": {
     "iopub.execute_input": "2023-06-29T10:21:37.400813Z",
     "iopub.status.busy": "2023-06-29T10:21:37.400477Z",
     "iopub.status.idle": "2023-06-29T10:21:47.475420Z",
     "shell.execute_reply": "2023-06-29T10:21:47.474397Z"
    },
    "papermill": {
     "duration": 10.089172,
     "end_time": "2023-06-29T10:21:47.477981",
     "exception": false,
     "start_time": "2023-06-29T10:21:37.388809",
     "status": "completed"
    },
    "tags": []
   },
   "outputs": [],
   "source": [
    "dataset = dataset.sort_values('event_time', ascending=False).drop_duplicates(subset=['user_id', 'product_id'])"
   ]
  },
  {
   "cell_type": "markdown",
   "id": "5308c97d",
   "metadata": {
    "papermill": {
     "duration": 0.009501,
     "end_time": "2023-06-29T10:21:47.498285",
     "exception": false,
     "start_time": "2023-06-29T10:21:47.488784",
     "status": "completed"
    },
    "tags": []
   },
   "source": [
    "# Exploratory Data Analysis\n",
    "as always :3\n",
    "\n",
    "From the EDA below, I know that\n",
    "1. Category code can be splitted by dot into 3 new columns\n",
    "2. Rating rules -> view: 2, cart: 3, remove_from_cart: 1, purchase: 4 <br>\n",
    "The reason for rating rules, in my personal opinion, is because we can't really tell the users preferences if they only view the product pages, but we can tell that the users don't need the product when removing it from cart.\n",
    "\n",
    "Most of the data are coming from appliances.environment.vacuum"
   ]
  },
  {
   "cell_type": "code",
   "execution_count": 5,
   "id": "b9879732",
   "metadata": {
    "execution": {
     "iopub.execute_input": "2023-06-29T10:21:47.521167Z",
     "iopub.status.busy": "2023-06-29T10:21:47.519318Z",
     "iopub.status.idle": "2023-06-29T10:21:51.418607Z",
     "shell.execute_reply": "2023-06-29T10:21:51.417565Z"
    },
    "papermill": {
     "duration": 3.913078,
     "end_time": "2023-06-29T10:21:51.421451",
     "exception": false,
     "start_time": "2023-06-29T10:21:47.508373",
     "status": "completed"
    },
    "tags": []
   },
   "outputs": [],
   "source": [
    "dataset['category_code'] = dataset['category_code'].apply(lambda x: x.split('.') if type(x)==str else None)\n",
    "dataset['cat1'] = dataset['category_code'].apply(lambda x: None if str(x)=='None' else x[0] if len(x)>0 else None)\n",
    "dataset['cat2'] = dataset['category_code'].apply(lambda x: None if str(x)=='None' else x[1] if len(x)>1 else None)\n",
    "dataset['cat3'] = dataset['category_code'].apply(lambda x: None if str(x)=='None' else x[2] if len(x)>2 else None)"
   ]
  },
  {
   "cell_type": "code",
   "execution_count": 6,
   "id": "1505aa54",
   "metadata": {
    "execution": {
     "iopub.execute_input": "2023-06-29T10:21:51.443100Z",
     "iopub.status.busy": "2023-06-29T10:21:51.442798Z",
     "iopub.status.idle": "2023-06-29T10:21:52.377320Z",
     "shell.execute_reply": "2023-06-29T10:21:52.376319Z"
    },
    "papermill": {
     "duration": 0.948197,
     "end_time": "2023-06-29T10:21:52.379970",
     "exception": false,
     "start_time": "2023-06-29T10:21:51.431773",
     "status": "completed"
    },
    "tags": []
   },
   "outputs": [],
   "source": [
    "dataset = dataset[['event_type', 'user_id', 'product_id', 'brand', 'price', 'cat1', 'cat2', 'cat3']]"
   ]
  },
  {
   "cell_type": "code",
   "execution_count": 7,
   "id": "92d3e674",
   "metadata": {
    "execution": {
     "iopub.execute_input": "2023-06-29T10:21:52.401756Z",
     "iopub.status.busy": "2023-06-29T10:21:52.401440Z",
     "iopub.status.idle": "2023-06-29T10:21:54.860561Z",
     "shell.execute_reply": "2023-06-29T10:21:54.859559Z"
    },
    "papermill": {
     "duration": 2.472347,
     "end_time": "2023-06-29T10:21:54.862925",
     "exception": false,
     "start_time": "2023-06-29T10:21:52.390578",
     "status": "completed"
    },
    "tags": []
   },
   "outputs": [
    {
     "name": "stdout",
     "output_type": "stream",
     "text": [
      "event_type has 4 values\n",
      "Those are: ['view' 'remove_from_cart' 'cart' 'purchase']\n",
      "user_id has 368232 values\n",
      "product_id has 43419 values\n",
      "brand has 239 values\n",
      "price has 2537 values\n",
      "cat1 has 5 values\n",
      "Those are: [None 'apparel' 'appliances' 'furniture' 'stationery' 'accessories']\n",
      "cat2 has 8 values\n",
      "Those are: [None 'glove' 'environment' 'living_room' 'personal' 'cartrige' 'bag'\n",
      " 'cosmetic_bag' 'bathroom']\n",
      "cat3 has 6 values\n",
      "Those are: [None 'vacuum' 'cabinet' 'hair_cutter' 'bath' 'air_conditioner' 'chair']\n"
     ]
    }
   ],
   "source": [
    "for col in dataset.columns:\n",
    "    print(f\"{col} has {dataset[col].nunique()} values\")\n",
    "    if dataset[col].nunique() < 20:\n",
    "        print(f\"Those are: {dataset[col].unique()}\")"
   ]
  },
  {
   "cell_type": "code",
   "execution_count": 8,
   "id": "2fa6d0cf",
   "metadata": {
    "execution": {
     "iopub.execute_input": "2023-06-29T10:21:54.886176Z",
     "iopub.status.busy": "2023-06-29T10:21:54.885566Z",
     "iopub.status.idle": "2023-06-29T10:21:59.898226Z",
     "shell.execute_reply": "2023-06-29T10:21:59.897216Z"
    },
    "papermill": {
     "duration": 5.0275,
     "end_time": "2023-06-29T10:21:59.901281",
     "exception": false,
     "start_time": "2023-06-29T10:21:54.873781",
     "status": "completed"
    },
    "tags": []
   },
   "outputs": [
    {
     "data": {
      "image/png": "[encoded data removed]",
      "text/plain": [
       "<Figure size 2000x500 with 5 Axes>"
      ]
     },
     "metadata": {},
     "output_type": "display_data"
    }
   ],
   "source": [
    "fig, ax = plt.subplots(1,5,figsize=(20,5))\n",
    "for idx, col in enumerate(dataset.select_dtypes('O').columns):\n",
    "    data = dataset.groupby(col)['user_id'].count().reset_index()\n",
    "    sns.barplot(data=data, x=col, y='user_id', ax=ax[idx])\n",
    "    ax[idx].set_xticklabels(labels=ax[idx].get_xticklabels(), rotation = 90)"
   ]
  },
  {
   "cell_type": "code",
   "execution_count": 9,
   "id": "36f57f9b",
   "metadata": {
    "execution": {
     "iopub.execute_input": "2023-06-29T10:21:59.927358Z",
     "iopub.status.busy": "2023-06-29T10:21:59.927023Z",
     "iopub.status.idle": "2023-06-29T10:22:01.615935Z",
     "shell.execute_reply": "2023-06-29T10:22:01.614951Z"
    },
    "papermill": {
     "duration": 1.705412,
     "end_time": "2023-06-29T10:22:01.618676",
     "exception": false,
     "start_time": "2023-06-29T10:21:59.913264",
     "status": "completed"
    },
    "tags": []
   },
   "outputs": [],
   "source": [
    "dataset['rating'] = dataset['event_type'].apply(lambda x: 1 if x=='remove_from_cart' else 2 if x=='view' else 3 if x=='cart' else 4)"
   ]
  },
  {
   "cell_type": "markdown",
   "id": "1c2ab823",
   "metadata": {
    "papermill": {
     "duration": 0.011505,
     "end_time": "2023-06-29T10:22:01.642639",
     "exception": false,
     "start_time": "2023-06-29T10:22:01.631134",
     "status": "completed"
    },
    "tags": []
   },
   "source": [
    "# Factorization Machine!"
   ]
  },
  {
   "cell_type": "code",
   "execution_count": 10,
   "id": "3e08c371",
   "metadata": {
    "_kg_hide-input": true,
    "_kg_hide-output": true,
    "execution": {
     "iopub.execute_input": "2023-06-29T10:22:01.667249Z",
     "iopub.status.busy": "2023-06-29T10:22:01.666930Z",
     "iopub.status.idle": "2023-06-29T10:22:16.060184Z",
     "shell.execute_reply": "2023-06-29T10:22:16.058996Z"
    },
    "papermill": {
     "duration": 14.408752,
     "end_time": "2023-06-29T10:22:16.063013",
     "exception": false,
     "start_time": "2023-06-29T10:22:01.654261",
     "status": "completed"
    },
    "tags": []
   },
   "outputs": [
    {
     "name": "stdout",
     "output_type": "stream",
     "text": [
      "Collecting deepctr\r\n",
      "  Downloading deepctr-0.9.3-py3-none-any.whl (141 kB)\r\n",
      "\u001b[2K     \u001b[90m━━━━━━━━━━━━━━━━━━━━━━━━━━━━━━━━━━━━━━━\u001b[0m \u001b[32m141.2/141.2 kB\u001b[0m \u001b[31m3.7 MB/s\u001b[0m eta \u001b[36m0:00:00\u001b[0m\r\n",
      "\u001b[?25hRequirement already satisfied: requests in /opt/conda/lib/python3.10/site-packages (from deepctr) (2.28.2)\r\n",
      "Collecting h5py==3.7.0 (from deepctr)\r\n",
      "  Downloading h5py-3.7.0-cp310-cp310-manylinux_2_12_x86_64.manylinux2010_x86_64.whl (4.5 MB)\r\n",
      "\u001b[2K     \u001b[90m━━━━━━━━━━━━━━━━━━━━━━━━━━━━━━━━━━━━━━━━\u001b[0m \u001b[32m4.5/4.5 MB\u001b[0m \u001b[31m54.5 MB/s\u001b[0m eta \u001b[36m0:00:00\u001b[0m\r\n",
      "\u001b[?25hRequirement already satisfied: numpy>=1.14.5 in /opt/conda/lib/python3.10/site-packages (from h5py==3.7.0->deepctr) (1.23.5)\r\n",
      "Requirement already satisfied: charset-normalizer<4,>=2 in /opt/conda/lib/python3.10/site-packages (from requests->deepctr) (2.1.1)\r\n",
      "Requirement already satisfied: idna<4,>=2.5 in /opt/conda/lib/python3.10/site-packages (from requests->deepctr) (3.4)\r\n",
      "Requirement already satisfied: urllib3<1.27,>=1.21.1 in /opt/conda/lib/python3.10/site-packages (from requests->deepctr) (1.26.15)\r\n",
      "Requirement already satisfied: certifi>=2017.4.17 in /opt/conda/lib/python3.10/site-packages (from requests->deepctr) (2023.5.7)\r\n",
      "Installing collected packages: h5py, deepctr\r\n",
      "  Attempting uninstall: h5py\r\n",
      "    Found existing installation: h5py 3.8.0\r\n",
      "    Uninstalling h5py-3.8.0:\r\n",
      "      Successfully uninstalled h5py-3.8.0\r\n",
      "Successfully installed deepctr-0.9.3 h5py-3.7.0\r\n",
      "\u001b[33mWARNING: Running pip as the 'root' user can result in broken permissions and conflicting behaviour with the system package manager. It is recommended to use a virtual environment instead: https://pip.pypa.io/warnings/venv\u001b[0m\u001b[33m\r\n",
      "\u001b[0m"
     ]
    }
   ],
   "source": [
    "!pip install deepctr"
   ]
  },
  {
   "cell_type": "code",
   "execution_count": 11,
   "id": "03913564",
   "metadata": {
    "_kg_hide-output": true,
    "execution": {
     "iopub.execute_input": "2023-06-29T10:22:16.091830Z",
     "iopub.status.busy": "2023-06-29T10:22:16.091463Z",
     "iopub.status.idle": "2023-06-29T10:22:25.717150Z",
     "shell.execute_reply": "2023-06-29T10:22:25.716145Z"
    },
    "papermill": {
     "duration": 9.642974,
     "end_time": "2023-06-29T10:22:25.719608",
     "exception": false,
     "start_time": "2023-06-29T10:22:16.076634",
     "status": "completed"
    },
    "tags": []
   },
   "outputs": [
    {
     "name": "stderr",
     "output_type": "stream",
     "text": [
      "/opt/conda/lib/python3.10/site-packages/tensorflow_io/python/ops/__init__.py:98: UserWarning: unable to load libtensorflow_io_plugins.so: unable to open file: libtensorflow_io_plugins.so, from paths: ['/opt/conda/lib/python3.10/site-packages/tensorflow_io/python/ops/libtensorflow_io_plugins.so']\n",
      "caused by: ['/opt/conda/lib/python3.10/site-packages/tensorflow_io/python/ops/libtensorflow_io_plugins.so: undefined symbol: _ZN3tsl6StatusC1EN10tensorflow5error4CodeESt17basic_string_viewIcSt11char_traitsIcEENS_14SourceLocationE']\n",
      "  warnings.warn(f\"unable to load libtensorflow_io_plugins.so: {e}\")\n",
      "/opt/conda/lib/python3.10/site-packages/tensorflow_io/python/ops/__init__.py:104: UserWarning: file system plugins are not loaded: unable to open file: libtensorflow_io.so, from paths: ['/opt/conda/lib/python3.10/site-packages/tensorflow_io/python/ops/libtensorflow_io.so']\n",
      "caused by: ['/opt/conda/lib/python3.10/site-packages/tensorflow_io/python/ops/libtensorflow_io.so: undefined symbol: _ZTVN10tensorflow13GcsFileSystemE']\n",
      "  warnings.warn(f\"file system plugins are not loaded: {e}\")\n"
     ]
    }
   ],
   "source": [
    "from sklearn.metrics import mean_squared_error\n",
    "from sklearn.model_selection import train_test_split\n",
    "from sklearn.preprocessing import LabelEncoder, MinMaxScaler\n",
    "\n",
    "from deepctr.models import DeepFM\n",
    "from deepctr.estimator import DeepFMEstimator\n",
    "from deepctr.estimator.inputs import input_fn_pandas\n",
    "from deepctr.feature_column import SparseFeat, DenseFeat, get_feature_names\n",
    "import tensorflow as tf"
   ]
  },
  {
   "cell_type": "code",
   "execution_count": 12,
   "id": "d5d26da5",
   "metadata": {
    "execution": {
     "iopub.execute_input": "2023-06-29T10:22:25.748895Z",
     "iopub.status.busy": "2023-06-29T10:22:25.747840Z",
     "iopub.status.idle": "2023-06-29T10:22:25.753925Z",
     "shell.execute_reply": "2023-06-29T10:22:25.752979Z"
    },
    "papermill": {
     "duration": 0.022647,
     "end_time": "2023-06-29T10:22:25.756327",
     "exception": false,
     "start_time": "2023-06-29T10:22:25.733680",
     "status": "completed"
    },
    "tags": []
   },
   "outputs": [],
   "source": [
    "sparse_features = ['user_id', 'product_id', 'brand', 'cat1', 'cat2', 'cat3']\n",
    "dense_features = ['price']\n",
    "target = 'rating'"
   ]
  },
  {
   "cell_type": "code",
   "execution_count": 13,
   "id": "298743c3",
   "metadata": {
    "execution": {
     "iopub.execute_input": "2023-06-29T10:22:25.784075Z",
     "iopub.status.busy": "2023-06-29T10:22:25.783791Z",
     "iopub.status.idle": "2023-06-29T10:22:29.263872Z",
     "shell.execute_reply": "2023-06-29T10:22:29.262833Z"
    },
    "papermill": {
     "duration": 3.496842,
     "end_time": "2023-06-29T10:22:29.266584",
     "exception": false,
     "start_time": "2023-06-29T10:22:25.769742",
     "status": "completed"
    },
    "tags": []
   },
   "outputs": [],
   "source": [
    "dataset[sparse_features] = dataset[sparse_features].fillna('-1', )\n",
    "dataset[dense_features] = dataset[dense_features].fillna('other')"
   ]
  },
  {
   "cell_type": "code",
   "execution_count": 14,
   "id": "54c5909a",
   "metadata": {
    "execution": {
     "iopub.execute_input": "2023-06-29T10:22:29.295783Z",
     "iopub.status.busy": "2023-06-29T10:22:29.295474Z",
     "iopub.status.idle": "2023-06-29T10:22:33.061858Z",
     "shell.execute_reply": "2023-06-29T10:22:33.060844Z"
    },
    "papermill": {
     "duration": 3.784609,
     "end_time": "2023-06-29T10:22:33.064400",
     "exception": false,
     "start_time": "2023-06-29T10:22:29.279791",
     "status": "completed"
    },
    "tags": []
   },
   "outputs": [],
   "source": [
    "data = dataset.copy()\n",
    "\n",
    "for feat in sparse_features:\n",
    "    lbe = LabelEncoder()\n",
    "    data[feat] = lbe.fit_transform(data[feat])"
   ]
  },
  {
   "cell_type": "code",
   "execution_count": 15,
   "id": "04a0c2ea",
   "metadata": {
    "execution": {
     "iopub.execute_input": "2023-06-29T10:22:33.092768Z",
     "iopub.status.busy": "2023-06-29T10:22:33.092447Z",
     "iopub.status.idle": "2023-06-29T10:22:33.219396Z",
     "shell.execute_reply": "2023-06-29T10:22:33.218467Z"
    },
    "papermill": {
     "duration": 0.143883,
     "end_time": "2023-06-29T10:22:33.221934",
     "exception": false,
     "start_time": "2023-06-29T10:22:33.078051",
     "status": "completed"
    },
    "tags": []
   },
   "outputs": [],
   "source": [
    "mms = MinMaxScaler(feature_range=(0, 1))\n",
    "data[dense_features] = mms.fit_transform(data[dense_features])"
   ]
  },
  {
   "cell_type": "code",
   "execution_count": 16,
   "id": "5ee2afaa",
   "metadata": {
    "execution": {
     "iopub.execute_input": "2023-06-29T10:22:33.250548Z",
     "iopub.status.busy": "2023-06-29T10:22:33.249974Z",
     "iopub.status.idle": "2023-06-29T10:22:33.312229Z",
     "shell.execute_reply": "2023-06-29T10:22:33.311230Z"
    },
    "papermill": {
     "duration": 0.078712,
     "end_time": "2023-06-29T10:22:33.314531",
     "exception": false,
     "start_time": "2023-06-29T10:22:33.235819",
     "status": "completed"
    },
    "tags": []
   },
   "outputs": [],
   "source": [
    "fixlen_feature_columns = [SparseFeat(feat, data[feat].max() + 1, embedding_dim=4) for feat in sparse_features] + [DenseFeat(feat, 1, ) for feat in dense_features]\n",
    "\n",
    "dnn_feature_columns = fixlen_feature_columns\n",
    "linear_feature_columns = fixlen_feature_columns\n",
    "\n",
    "feature_names = get_feature_names(linear_feature_columns + dnn_feature_columns)"
   ]
  },
  {
   "cell_type": "code",
   "execution_count": 17,
   "id": "1ce5c546",
   "metadata": {
    "execution": {
     "iopub.execute_input": "2023-06-29T10:22:33.345355Z",
     "iopub.status.busy": "2023-06-29T10:22:33.344395Z",
     "iopub.status.idle": "2023-06-29T10:22:33.822650Z",
     "shell.execute_reply": "2023-06-29T10:22:33.821656Z"
    },
    "papermill": {
     "duration": 0.49589,
     "end_time": "2023-06-29T10:22:33.825106",
     "exception": false,
     "start_time": "2023-06-29T10:22:33.329216",
     "status": "completed"
    },
    "tags": []
   },
   "outputs": [],
   "source": [
    "train, test = train_test_split(data, test_size=0.2, random_state=2020)\n",
    "train_model_input = {name: train[name] for name in feature_names}\n",
    "test_model_input = {name: test[name] for name in feature_names}"
   ]
  },
  {
   "cell_type": "code",
   "execution_count": 18,
   "id": "64fea05c",
   "metadata": {
    "execution": {
     "iopub.execute_input": "2023-06-29T10:22:33.852306Z",
     "iopub.status.busy": "2023-06-29T10:22:33.851984Z",
     "iopub.status.idle": "2023-06-29T10:22:39.374421Z",
     "shell.execute_reply": "2023-06-29T10:22:39.373426Z"
    },
    "papermill": {
     "duration": 5.539121,
     "end_time": "2023-06-29T10:22:39.377452",
     "exception": false,
     "start_time": "2023-06-29T10:22:33.838331",
     "status": "completed"
    },
    "tags": []
   },
   "outputs": [],
   "source": [
    "# 4.Define Model,train,predict and evaluate\n",
    "model = DeepFM(linear_feature_columns, dnn_feature_columns, task='regression',\n",
    "              dnn_hidden_units=(64, 16), l2_reg_linear=1e-05,)"
   ]
  },
  {
   "cell_type": "code",
   "execution_count": 19,
   "id": "293d2369",
   "metadata": {
    "execution": {
     "iopub.execute_input": "2023-06-29T10:22:39.416540Z",
     "iopub.status.busy": "2023-06-29T10:22:39.415894Z",
     "iopub.status.idle": "2023-06-29T10:22:51.144042Z",
     "shell.execute_reply": "2023-06-29T10:22:51.143036Z"
    },
    "papermill": {
     "duration": 11.750136,
     "end_time": "2023-06-29T10:22:51.146239",
     "exception": false,
     "start_time": "2023-06-29T10:22:39.396103",
     "status": "completed"
    },
    "tags": []
   },
   "outputs": [
    {
     "name": "stdout",
     "output_type": "stream",
     "text": [
      "Epoch 1/10\n",
      "8/8 - 6s - loss: 5.6934 - mse: 5.6932 - val_loss: 5.0492 - val_mse: 5.0484\n",
      "Epoch 2/10\n",
      "8/8 - 1s - loss: 4.6206 - mse: 4.6192 - val_loss: 4.0336 - val_mse: 4.0313\n",
      "Epoch 3/10\n",
      "8/8 - 1s - loss: 3.5979 - mse: 3.5947 - val_loss: 3.0198 - val_mse: 3.0154\n",
      "Epoch 4/10\n",
      "8/8 - 1s - loss: 2.6058 - mse: 2.6004 - val_loss: 2.0966 - val_mse: 2.0898\n",
      "Epoch 5/10\n",
      "8/8 - 1s - loss: 1.7634 - mse: 1.7556 - val_loss: 1.3913 - val_mse: 1.3822\n",
      "Epoch 6/10\n",
      "8/8 - 1s - loss: 1.1811 - mse: 1.1712 - val_loss: 0.9841 - val_mse: 0.9731\n",
      "Epoch 7/10\n",
      "8/8 - 1s - loss: 0.8926 - mse: 0.8813 - val_loss: 0.8332 - val_mse: 0.8214\n",
      "Epoch 8/10\n",
      "8/8 - 1s - loss: 0.8011 - mse: 0.7894 - val_loss: 0.7948 - val_mse: 0.7832\n",
      "Epoch 9/10\n",
      "8/8 - 1s - loss: 0.7689 - mse: 0.7576 - val_loss: 0.7720 - val_mse: 0.7609\n",
      "Epoch 10/10\n",
      "8/8 - 0s - loss: 0.7421 - mse: 0.7312 - val_loss: 0.7522 - val_mse: 0.7414\n"
     ]
    }
   ],
   "source": [
    "model.compile(\"RMSProp\", \"mse\", metrics=['mse'], )\n",
    "history = model.fit(train_model_input, train[target].values, batch_size=256*256*3, epochs=10, verbose=2, validation_split=0.2)"
   ]
  },
  {
   "cell_type": "code",
   "execution_count": 20,
   "id": "4b8d4142",
   "metadata": {
    "execution": {
     "iopub.execute_input": "2023-06-29T10:22:51.179283Z",
     "iopub.status.busy": "2023-06-29T10:22:51.177609Z",
     "iopub.status.idle": "2023-06-29T10:22:51.607403Z",
     "shell.execute_reply": "2023-06-29T10:22:51.606253Z"
    },
    "papermill": {
     "duration": 0.449021,
     "end_time": "2023-06-29T10:22:51.610085",
     "exception": false,
     "start_time": "2023-06-29T10:22:51.161064",
     "status": "completed"
    },
    "tags": []
   },
   "outputs": [],
   "source": [
    " pred_ans = model.predict(test_model_input, batch_size=256*256*3)"
   ]
  },
  {
   "cell_type": "code",
   "execution_count": 21,
   "id": "db496a82",
   "metadata": {
    "execution": {
     "iopub.execute_input": "2023-06-29T10:22:51.643378Z",
     "iopub.status.busy": "2023-06-29T10:22:51.641768Z",
     "iopub.status.idle": "2023-06-29T10:22:52.041668Z",
     "shell.execute_reply": "2023-06-29T10:22:52.040619Z"
    },
    "papermill": {
     "duration": 0.418155,
     "end_time": "2023-06-29T10:22:52.044254",
     "exception": false,
     "start_time": "2023-06-29T10:22:51.626099",
     "status": "completed"
    },
    "tags": []
   },
   "outputs": [],
   "source": [
    "test = pd.DataFrame(test_model_input).merge(dataset[target], left_index=True, right_index=True)\n",
    "test['yhat'] = pred_ans"
   ]
  },
  {
   "cell_type": "code",
   "execution_count": 22,
   "id": "2345a647",
   "metadata": {
    "execution": {
     "iopub.execute_input": "2023-06-29T10:22:52.075257Z",
     "iopub.status.busy": "2023-06-29T10:22:52.074900Z",
     "iopub.status.idle": "2023-06-29T10:22:52.090811Z",
     "shell.execute_reply": "2023-06-29T10:22:52.089921Z"
    },
    "papermill": {
     "duration": 0.033252,
     "end_time": "2023-06-29T10:22:52.092929",
     "exception": false,
     "start_time": "2023-06-29T10:22:52.059677",
     "status": "completed"
    },
    "tags": []
   },
   "outputs": [
    {
     "data": {
      "text/html": [
       "<div>\n",
       "<style scoped>\n",
       "    .dataframe tbody tr th:only-of-type {\n",
       "        vertical-align: middle;\n",
       "    }\n",
       "\n",
       "    .dataframe tbody tr th {\n",
       "        vertical-align: top;\n",
       "    }\n",
       "\n",
       "    .dataframe thead th {\n",
       "        text-align: right;\n",
       "    }\n",
       "</style>\n",
       "<table border=\"1\" class=\"dataframe\">\n",
       "  <thead>\n",
       "    <tr style=\"text-align: right;\">\n",
       "      <th></th>\n",
       "      <th>user_id</th>\n",
       "      <th>product_id</th>\n",
       "      <th>brand</th>\n",
       "      <th>cat1</th>\n",
       "      <th>cat2</th>\n",
       "      <th>cat3</th>\n",
       "      <th>price</th>\n",
       "      <th>rating</th>\n",
       "      <th>yhat</th>\n",
       "    </tr>\n",
       "  </thead>\n",
       "  <tbody>\n",
       "    <tr>\n",
       "      <th>4228760</th>\n",
       "      <td>250529</td>\n",
       "      <td>3488</td>\n",
       "      <td>0</td>\n",
       "      <td>0</td>\n",
       "      <td>0</td>\n",
       "      <td>0</td>\n",
       "      <td>0.200909</td>\n",
       "      <td>2</td>\n",
       "      <td>2.396369</td>\n",
       "    </tr>\n",
       "    <tr>\n",
       "      <th>452414</th>\n",
       "      <td>38381</td>\n",
       "      <td>29309</td>\n",
       "      <td>0</td>\n",
       "      <td>0</td>\n",
       "      <td>0</td>\n",
       "      <td>0</td>\n",
       "      <td>0.206558</td>\n",
       "      <td>2</td>\n",
       "      <td>2.212225</td>\n",
       "    </tr>\n",
       "    <tr>\n",
       "      <th>4452134</th>\n",
       "      <td>75737</td>\n",
       "      <td>365</td>\n",
       "      <td>198</td>\n",
       "      <td>3</td>\n",
       "      <td>5</td>\n",
       "      <td>6</td>\n",
       "      <td>0.261059</td>\n",
       "      <td>2</td>\n",
       "      <td>1.937083</td>\n",
       "    </tr>\n",
       "    <tr>\n",
       "      <th>3840241</th>\n",
       "      <td>325281</td>\n",
       "      <td>4570</td>\n",
       "      <td>0</td>\n",
       "      <td>0</td>\n",
       "      <td>0</td>\n",
       "      <td>0</td>\n",
       "      <td>0.212084</td>\n",
       "      <td>2</td>\n",
       "      <td>2.048485</td>\n",
       "    </tr>\n",
       "    <tr>\n",
       "      <th>4060135</th>\n",
       "      <td>344051</td>\n",
       "      <td>29458</td>\n",
       "      <td>0</td>\n",
       "      <td>0</td>\n",
       "      <td>0</td>\n",
       "      <td>0</td>\n",
       "      <td>0.244112</td>\n",
       "      <td>4</td>\n",
       "      <td>2.059160</td>\n",
       "    </tr>\n",
       "    <tr>\n",
       "      <th>...</th>\n",
       "      <td>...</td>\n",
       "      <td>...</td>\n",
       "      <td>...</td>\n",
       "      <td>...</td>\n",
       "      <td>...</td>\n",
       "      <td>...</td>\n",
       "      <td>...</td>\n",
       "      <td>...</td>\n",
       "      <td>...</td>\n",
       "    </tr>\n",
       "    <tr>\n",
       "      <th>4063323</th>\n",
       "      <td>347627</td>\n",
       "      <td>13775</td>\n",
       "      <td>0</td>\n",
       "      <td>0</td>\n",
       "      <td>0</td>\n",
       "      <td>0</td>\n",
       "      <td>0.240526</td>\n",
       "      <td>2</td>\n",
       "      <td>2.027493</td>\n",
       "    </tr>\n",
       "    <tr>\n",
       "      <th>2613642</th>\n",
       "      <td>287975</td>\n",
       "      <td>16545</td>\n",
       "      <td>120</td>\n",
       "      <td>0</td>\n",
       "      <td>0</td>\n",
       "      <td>0</td>\n",
       "      <td>0.214442</td>\n",
       "      <td>4</td>\n",
       "      <td>2.202349</td>\n",
       "    </tr>\n",
       "    <tr>\n",
       "      <th>1095126</th>\n",
       "      <td>29275</td>\n",
       "      <td>3575</td>\n",
       "      <td>0</td>\n",
       "      <td>0</td>\n",
       "      <td>0</td>\n",
       "      <td>0</td>\n",
       "      <td>0.205846</td>\n",
       "      <td>1</td>\n",
       "      <td>2.098828</td>\n",
       "    </tr>\n",
       "    <tr>\n",
       "      <th>3691904</th>\n",
       "      <td>325775</td>\n",
       "      <td>15266</td>\n",
       "      <td>0</td>\n",
       "      <td>0</td>\n",
       "      <td>0</td>\n",
       "      <td>0</td>\n",
       "      <td>0.199607</td>\n",
       "      <td>2</td>\n",
       "      <td>1.973323</td>\n",
       "    </tr>\n",
       "    <tr>\n",
       "      <th>3710918</th>\n",
       "      <td>329564</td>\n",
       "      <td>21595</td>\n",
       "      <td>116</td>\n",
       "      <td>0</td>\n",
       "      <td>0</td>\n",
       "      <td>0</td>\n",
       "      <td>0.207172</td>\n",
       "      <td>2</td>\n",
       "      <td>2.179068</td>\n",
       "    </tr>\n",
       "  </tbody>\n",
       "</table>\n",
       "<p>477968 rows × 9 columns</p>\n",
       "</div>"
      ],
      "text/plain": [
       "         user_id  product_id  brand  cat1  cat2  cat3     price  rating  \\\n",
       "4228760   250529        3488      0     0     0     0  0.200909       2   \n",
       "452414     38381       29309      0     0     0     0  0.206558       2   \n",
       "4452134    75737         365    198     3     5     6  0.261059       2   \n",
       "3840241   325281        4570      0     0     0     0  0.212084       2   \n",
       "4060135   344051       29458      0     0     0     0  0.244112       4   \n",
       "...          ...         ...    ...   ...   ...   ...       ...     ...   \n",
       "4063323   347627       13775      0     0     0     0  0.240526       2   \n",
       "2613642   287975       16545    120     0     0     0  0.214442       4   \n",
       "1095126    29275        3575      0     0     0     0  0.205846       1   \n",
       "3691904   325775       15266      0     0     0     0  0.199607       2   \n",
       "3710918   329564       21595    116     0     0     0  0.207172       2   \n",
       "\n",
       "             yhat  \n",
       "4228760  2.396369  \n",
       "452414   2.212225  \n",
       "4452134  1.937083  \n",
       "3840241  2.048485  \n",
       "4060135  2.059160  \n",
       "...           ...  \n",
       "4063323  2.027493  \n",
       "2613642  2.202349  \n",
       "1095126  2.098828  \n",
       "3691904  1.973323  \n",
       "3710918  2.179068  \n",
       "\n",
       "[477968 rows x 9 columns]"
      ]
     },
     "execution_count": 22,
     "metadata": {},
     "output_type": "execute_result"
    }
   ],
   "source": [
    "test"
   ]
  },
  {
   "cell_type": "code",
   "execution_count": 23,
   "id": "d12382d7",
   "metadata": {
    "execution": {
     "iopub.execute_input": "2023-06-29T10:22:52.124947Z",
     "iopub.status.busy": "2023-06-29T10:22:52.123294Z",
     "iopub.status.idle": "2023-06-29T10:22:52.134711Z",
     "shell.execute_reply": "2023-06-29T10:22:52.133563Z"
    },
    "papermill": {
     "duration": 0.029438,
     "end_time": "2023-06-29T10:22:52.137384",
     "exception": false,
     "start_time": "2023-06-29T10:22:52.107946",
     "status": "completed"
    },
    "tags": []
   },
   "outputs": [
    {
     "data": {
      "text/plain": [
       "0.7406653313718107"
      ]
     },
     "execution_count": 23,
     "metadata": {},
     "output_type": "execute_result"
    }
   ],
   "source": [
    "np.square(test['rating'] - test['yhat']).mean()"
   ]
  },
  {
   "cell_type": "code",
   "execution_count": 24,
   "id": "8bd624bb",
   "metadata": {
    "execution": {
     "iopub.execute_input": "2023-06-29T10:22:52.169415Z",
     "iopub.status.busy": "2023-06-29T10:22:52.169092Z",
     "iopub.status.idle": "2023-06-29T10:22:52.513361Z",
     "shell.execute_reply": "2023-06-29T10:22:52.512370Z"
    },
    "papermill": {
     "duration": 0.361938,
     "end_time": "2023-06-29T10:22:52.515499",
     "exception": false,
     "start_time": "2023-06-29T10:22:52.153561",
     "status": "completed"
    },
    "tags": []
   },
   "outputs": [
    {
     "data": {
      "text/plain": [
       "<Axes: ylabel='Frequency'>"
      ]
     },
     "execution_count": 24,
     "metadata": {},
     "output_type": "execute_result"
    },
    {
     "data": {
      "image/png": "[encoded data removed]",
      "text/plain": [
       "<Figure size 640x480 with 1 Axes>"
      ]
     },
     "metadata": {},
     "output_type": "display_data"
    }
   ],
   "source": [
    "test['rating'].plot(kind='hist')"
   ]
  },
  {
   "cell_type": "code",
   "execution_count": 25,
   "id": "289ab0ea",
   "metadata": {
    "execution": {
     "iopub.execute_input": "2023-06-29T10:22:52.547292Z",
     "iopub.status.busy": "2023-06-29T10:22:52.546976Z",
     "iopub.status.idle": "2023-06-29T10:22:52.852667Z",
     "shell.execute_reply": "2023-06-29T10:22:52.851629Z"
    },
    "papermill": {
     "duration": 0.32388,
     "end_time": "2023-06-29T10:22:52.854990",
     "exception": false,
     "start_time": "2023-06-29T10:22:52.531110",
     "status": "completed"
    },
    "tags": []
   },
   "outputs": [
    {
     "data": {
      "text/plain": [
       "<Axes: ylabel='Frequency'>"
      ]
     },
     "execution_count": 25,
     "metadata": {},
     "output_type": "execute_result"
    },
    {
     "data": {
      "image/png": "[encoded data removed]",
      "text/plain": [
       "<Figure size 640x480 with 1 Axes>"
      ]
     },
     "metadata": {},
     "output_type": "display_data"
    }
   ],
   "source": [
    "test['yhat'].plot(kind='hist')"
   ]
  },
  {
   "cell_type": "code",
   "execution_count": 26,
   "id": "1ab272d3",
   "metadata": {
    "execution": {
     "iopub.execute_input": "2023-06-29T10:22:52.889757Z",
     "iopub.status.busy": "2023-06-29T10:22:52.889436Z",
     "iopub.status.idle": "2023-06-29T10:22:53.102495Z",
     "shell.execute_reply": "2023-06-29T10:22:53.101445Z"
    },
    "papermill": {
     "duration": 0.233058,
     "end_time": "2023-06-29T10:22:53.105082",
     "exception": false,
     "start_time": "2023-06-29T10:22:52.872024",
     "status": "completed"
    },
    "tags": []
   },
   "outputs": [],
   "source": [
    "test['rank'] = test.groupby('user_id')['yhat'].rank(method='max', ascending=False)"
   ]
  },
  {
   "cell_type": "code",
   "execution_count": 27,
   "id": "e5fb7c6f",
   "metadata": {
    "execution": {
     "iopub.execute_input": "2023-06-29T10:22:53.140304Z",
     "iopub.status.busy": "2023-06-29T10:22:53.138773Z",
     "iopub.status.idle": "2023-06-29T10:22:53.158179Z",
     "shell.execute_reply": "2023-06-29T10:22:53.157064Z"
    },
    "papermill": {
     "duration": 0.038858,
     "end_time": "2023-06-29T10:22:53.160450",
     "exception": false,
     "start_time": "2023-06-29T10:22:53.121592",
     "status": "completed"
    },
    "tags": []
   },
   "outputs": [
    {
     "data": {
      "text/html": [
       "<div>\n",
       "<style scoped>\n",
       "    .dataframe tbody tr th:only-of-type {\n",
       "        vertical-align: middle;\n",
       "    }\n",
       "\n",
       "    .dataframe tbody tr th {\n",
       "        vertical-align: top;\n",
       "    }\n",
       "\n",
       "    .dataframe thead th {\n",
       "        text-align: right;\n",
       "    }\n",
       "</style>\n",
       "<table border=\"1\" class=\"dataframe\">\n",
       "  <thead>\n",
       "    <tr style=\"text-align: right;\">\n",
       "      <th></th>\n",
       "      <th>user_id</th>\n",
       "      <th>product_id</th>\n",
       "      <th>brand</th>\n",
       "      <th>cat1</th>\n",
       "      <th>cat2</th>\n",
       "      <th>cat3</th>\n",
       "      <th>price</th>\n",
       "      <th>rating</th>\n",
       "      <th>yhat</th>\n",
       "      <th>rank</th>\n",
       "    </tr>\n",
       "  </thead>\n",
       "  <tbody>\n",
       "    <tr>\n",
       "      <th>4228760</th>\n",
       "      <td>250529</td>\n",
       "      <td>3488</td>\n",
       "      <td>0</td>\n",
       "      <td>0</td>\n",
       "      <td>0</td>\n",
       "      <td>0</td>\n",
       "      <td>0.200909</td>\n",
       "      <td>2</td>\n",
       "      <td>2.396369</td>\n",
       "      <td>3.0</td>\n",
       "    </tr>\n",
       "    <tr>\n",
       "      <th>452414</th>\n",
       "      <td>38381</td>\n",
       "      <td>29309</td>\n",
       "      <td>0</td>\n",
       "      <td>0</td>\n",
       "      <td>0</td>\n",
       "      <td>0</td>\n",
       "      <td>0.206558</td>\n",
       "      <td>2</td>\n",
       "      <td>2.212225</td>\n",
       "      <td>6.0</td>\n",
       "    </tr>\n",
       "    <tr>\n",
       "      <th>4452134</th>\n",
       "      <td>75737</td>\n",
       "      <td>365</td>\n",
       "      <td>198</td>\n",
       "      <td>3</td>\n",
       "      <td>5</td>\n",
       "      <td>6</td>\n",
       "      <td>0.261059</td>\n",
       "      <td>2</td>\n",
       "      <td>1.937083</td>\n",
       "      <td>1.0</td>\n",
       "    </tr>\n",
       "    <tr>\n",
       "      <th>3840241</th>\n",
       "      <td>325281</td>\n",
       "      <td>4570</td>\n",
       "      <td>0</td>\n",
       "      <td>0</td>\n",
       "      <td>0</td>\n",
       "      <td>0</td>\n",
       "      <td>0.212084</td>\n",
       "      <td>2</td>\n",
       "      <td>2.048485</td>\n",
       "      <td>56.0</td>\n",
       "    </tr>\n",
       "    <tr>\n",
       "      <th>4060135</th>\n",
       "      <td>344051</td>\n",
       "      <td>29458</td>\n",
       "      <td>0</td>\n",
       "      <td>0</td>\n",
       "      <td>0</td>\n",
       "      <td>0</td>\n",
       "      <td>0.244112</td>\n",
       "      <td>4</td>\n",
       "      <td>2.059160</td>\n",
       "      <td>1.0</td>\n",
       "    </tr>\n",
       "    <tr>\n",
       "      <th>...</th>\n",
       "      <td>...</td>\n",
       "      <td>...</td>\n",
       "      <td>...</td>\n",
       "      <td>...</td>\n",
       "      <td>...</td>\n",
       "      <td>...</td>\n",
       "      <td>...</td>\n",
       "      <td>...</td>\n",
       "      <td>...</td>\n",
       "      <td>...</td>\n",
       "    </tr>\n",
       "    <tr>\n",
       "      <th>4063323</th>\n",
       "      <td>347627</td>\n",
       "      <td>13775</td>\n",
       "      <td>0</td>\n",
       "      <td>0</td>\n",
       "      <td>0</td>\n",
       "      <td>0</td>\n",
       "      <td>0.240526</td>\n",
       "      <td>2</td>\n",
       "      <td>2.027493</td>\n",
       "      <td>1.0</td>\n",
       "    </tr>\n",
       "    <tr>\n",
       "      <th>2613642</th>\n",
       "      <td>287975</td>\n",
       "      <td>16545</td>\n",
       "      <td>120</td>\n",
       "      <td>0</td>\n",
       "      <td>0</td>\n",
       "      <td>0</td>\n",
       "      <td>0.214442</td>\n",
       "      <td>4</td>\n",
       "      <td>2.202349</td>\n",
       "      <td>1.0</td>\n",
       "    </tr>\n",
       "    <tr>\n",
       "      <th>1095126</th>\n",
       "      <td>29275</td>\n",
       "      <td>3575</td>\n",
       "      <td>0</td>\n",
       "      <td>0</td>\n",
       "      <td>0</td>\n",
       "      <td>0</td>\n",
       "      <td>0.205846</td>\n",
       "      <td>1</td>\n",
       "      <td>2.098828</td>\n",
       "      <td>8.0</td>\n",
       "    </tr>\n",
       "    <tr>\n",
       "      <th>3691904</th>\n",
       "      <td>325775</td>\n",
       "      <td>15266</td>\n",
       "      <td>0</td>\n",
       "      <td>0</td>\n",
       "      <td>0</td>\n",
       "      <td>0</td>\n",
       "      <td>0.199607</td>\n",
       "      <td>2</td>\n",
       "      <td>1.973323</td>\n",
       "      <td>1.0</td>\n",
       "    </tr>\n",
       "    <tr>\n",
       "      <th>3710918</th>\n",
       "      <td>329564</td>\n",
       "      <td>21595</td>\n",
       "      <td>116</td>\n",
       "      <td>0</td>\n",
       "      <td>0</td>\n",
       "      <td>0</td>\n",
       "      <td>0.207172</td>\n",
       "      <td>2</td>\n",
       "      <td>2.179068</td>\n",
       "      <td>1.0</td>\n",
       "    </tr>\n",
       "  </tbody>\n",
       "</table>\n",
       "<p>477968 rows × 10 columns</p>\n",
       "</div>"
      ],
      "text/plain": [
       "         user_id  product_id  brand  cat1  cat2  cat3     price  rating  \\\n",
       "4228760   250529        3488      0     0     0     0  0.200909       2   \n",
       "452414     38381       29309      0     0     0     0  0.206558       2   \n",
       "4452134    75737         365    198     3     5     6  0.261059       2   \n",
       "3840241   325281        4570      0     0     0     0  0.212084       2   \n",
       "4060135   344051       29458      0     0     0     0  0.244112       4   \n",
       "...          ...         ...    ...   ...   ...   ...       ...     ...   \n",
       "4063323   347627       13775      0     0     0     0  0.240526       2   \n",
       "2613642   287975       16545    120     0     0     0  0.214442       4   \n",
       "1095126    29275        3575      0     0     0     0  0.205846       1   \n",
       "3691904   325775       15266      0     0     0     0  0.199607       2   \n",
       "3710918   329564       21595    116     0     0     0  0.207172       2   \n",
       "\n",
       "             yhat  rank  \n",
       "4228760  2.396369   3.0  \n",
       "452414   2.212225   6.0  \n",
       "4452134  1.937083   1.0  \n",
       "3840241  2.048485  56.0  \n",
       "4060135  2.059160   1.0  \n",
       "...           ...   ...  \n",
       "4063323  2.027493   1.0  \n",
       "2613642  2.202349   1.0  \n",
       "1095126  2.098828   8.0  \n",
       "3691904  1.973323   1.0  \n",
       "3710918  2.179068   1.0  \n",
       "\n",
       "[477968 rows x 10 columns]"
      ]
     },
     "execution_count": 27,
     "metadata": {},
     "output_type": "execute_result"
    }
   ],
   "source": [
    "test"
   ]
  },
  {
   "cell_type": "markdown",
   "id": "342759af",
   "metadata": {
    "papermill": {
     "duration": 0.015991,
     "end_time": "2023-06-29T10:22:53.194264",
     "exception": false,
     "start_time": "2023-06-29T10:22:53.178273",
     "status": "completed"
    },
    "tags": []
   },
   "source": [
    "# Evaluation"
   ]
  },
  {
   "cell_type": "code",
   "execution_count": 28,
   "id": "6afb429e",
   "metadata": {
    "execution": {
     "iopub.execute_input": "2023-06-29T10:22:53.228905Z",
     "iopub.status.busy": "2023-06-29T10:22:53.228406Z",
     "iopub.status.idle": "2023-06-29T10:23:06.492250Z",
     "shell.execute_reply": "2023-06-29T10:23:06.490980Z"
    },
    "papermill": {
     "duration": 13.284869,
     "end_time": "2023-06-29T10:23:06.495331",
     "exception": false,
     "start_time": "2023-06-29T10:22:53.210462",
     "status": "completed"
    },
    "tags": []
   },
   "outputs": [],
   "source": [
    "test.sort_values('yhat', ascending=False, inplace=True)\n",
    "test_eval = test.groupby('user_id').agg(list_product=('product_id', list), rating=('rating', list), yhat=('yhat', list))\n"
   ]
  },
  {
   "cell_type": "code",
   "execution_count": 29,
   "id": "8db1748a",
   "metadata": {
    "execution": {
     "iopub.execute_input": "2023-06-29T10:23:06.530929Z",
     "iopub.status.busy": "2023-06-29T10:23:06.530477Z",
     "iopub.status.idle": "2023-06-29T10:23:10.449253Z",
     "shell.execute_reply": "2023-06-29T10:23:10.448151Z"
    },
    "papermill": {
     "duration": 3.939755,
     "end_time": "2023-06-29T10:23:10.452110",
     "exception": false,
     "start_time": "2023-06-29T10:23:06.512355",
     "status": "completed"
    },
    "tags": []
   },
   "outputs": [],
   "source": [
    "# Let's see if we change the threshold of which ratings define whether users will click or not\n",
    "threshold_rating = [2,3,4]\n",
    "\n",
    "for threshold in threshold_rating:\n",
    "    test_eval[f'reciprocal_rank_@{threshold}'] = test_eval['rating'].apply(lambda x: 1/(np.where(np.array(x)>=threshold)[0][0] + 1) if len(np.where(np.array(x)>=threshold)[0])>0 else None)"
   ]
  },
  {
   "cell_type": "code",
   "execution_count": 30,
   "id": "3e3653da",
   "metadata": {
    "execution": {
     "iopub.execute_input": "2023-06-29T10:23:10.486594Z",
     "iopub.status.busy": "2023-06-29T10:23:10.486258Z",
     "iopub.status.idle": "2023-06-29T10:23:10.548919Z",
     "shell.execute_reply": "2023-06-29T10:23:10.547957Z"
    },
    "papermill": {
     "duration": 0.082823,
     "end_time": "2023-06-29T10:23:10.551453",
     "exception": false,
     "start_time": "2023-06-29T10:23:10.468630",
     "status": "completed"
    },
    "tags": []
   },
   "outputs": [
    {
     "data": {
      "text/html": [
       "<div>\n",
       "<style scoped>\n",
       "    .dataframe tbody tr th:only-of-type {\n",
       "        vertical-align: middle;\n",
       "    }\n",
       "\n",
       "    .dataframe tbody tr th {\n",
       "        vertical-align: top;\n",
       "    }\n",
       "\n",
       "    .dataframe thead th {\n",
       "        text-align: right;\n",
       "    }\n",
       "</style>\n",
       "<table border=\"1\" class=\"dataframe\">\n",
       "  <thead>\n",
       "    <tr style=\"text-align: right;\">\n",
       "      <th></th>\n",
       "      <th>list_product</th>\n",
       "      <th>rating</th>\n",
       "      <th>yhat</th>\n",
       "      <th>reciprocal_rank_@2</th>\n",
       "      <th>reciprocal_rank_@3</th>\n",
       "      <th>reciprocal_rank_@4</th>\n",
       "    </tr>\n",
       "    <tr>\n",
       "      <th>user_id</th>\n",
       "      <th></th>\n",
       "      <th></th>\n",
       "      <th></th>\n",
       "      <th></th>\n",
       "      <th></th>\n",
       "      <th></th>\n",
       "    </tr>\n",
       "  </thead>\n",
       "  <tbody>\n",
       "    <tr>\n",
       "      <th>0</th>\n",
       "      <td>[306]</td>\n",
       "      <td>[2]</td>\n",
       "      <td>[2.062591075897217]</td>\n",
       "      <td>1.0</td>\n",
       "      <td>NaN</td>\n",
       "      <td>NaN</td>\n",
       "    </tr>\n",
       "    <tr>\n",
       "      <th>1</th>\n",
       "      <td>[19372, 41191, 8233, 8195, 8178]</td>\n",
       "      <td>[2, 2, 2, 2, 2]</td>\n",
       "      <td>[2.237269639968872, 2.087641477584839, 2.01859...</td>\n",
       "      <td>1.0</td>\n",
       "      <td>NaN</td>\n",
       "      <td>NaN</td>\n",
       "    </tr>\n",
       "    <tr>\n",
       "      <th>2</th>\n",
       "      <td>[1634, 10508, 112, 1294]</td>\n",
       "      <td>[3, 3, 3, 3]</td>\n",
       "      <td>[2.1831133365631104, 2.1677510738372803, 2.132...</td>\n",
       "      <td>1.0</td>\n",
       "      <td>1.000000</td>\n",
       "      <td>NaN</td>\n",
       "    </tr>\n",
       "    <tr>\n",
       "      <th>6</th>\n",
       "      <td>[18143, 40554, 38370, 7701, 18561]</td>\n",
       "      <td>[4, 1, 2, 1, 4]</td>\n",
       "      <td>[2.1448442935943604, 2.1238598823547363, 2.025...</td>\n",
       "      <td>1.0</td>\n",
       "      <td>1.000000</td>\n",
       "      <td>1.000000</td>\n",
       "    </tr>\n",
       "    <tr>\n",
       "      <th>7</th>\n",
       "      <td>[12272]</td>\n",
       "      <td>[4]</td>\n",
       "      <td>[2.166236162185669]</td>\n",
       "      <td>1.0</td>\n",
       "      <td>1.000000</td>\n",
       "      <td>1.000000</td>\n",
       "    </tr>\n",
       "    <tr>\n",
       "      <th>8</th>\n",
       "      <td>[21645, 36095, 41647, 38368, 38367, 43005, 284...</td>\n",
       "      <td>[1, 2, 2, 1, 1, 3, 4, 2, 1]</td>\n",
       "      <td>[2.508291006088257, 2.415562868118286, 2.38119...</td>\n",
       "      <td>0.5</td>\n",
       "      <td>0.166667</td>\n",
       "      <td>0.142857</td>\n",
       "    </tr>\n",
       "    <tr>\n",
       "      <th>12</th>\n",
       "      <td>[18143, 41110]</td>\n",
       "      <td>[3, 2]</td>\n",
       "      <td>[2.0911200046539307, 2.011227607727051]</td>\n",
       "      <td>1.0</td>\n",
       "      <td>1.000000</td>\n",
       "      <td>NaN</td>\n",
       "    </tr>\n",
       "    <tr>\n",
       "      <th>15</th>\n",
       "      <td>[13215, 33614]</td>\n",
       "      <td>[3, 2]</td>\n",
       "      <td>[2.2695810794830322, 2.2422780990600586]</td>\n",
       "      <td>1.0</td>\n",
       "      <td>1.000000</td>\n",
       "      <td>NaN</td>\n",
       "    </tr>\n",
       "    <tr>\n",
       "      <th>16</th>\n",
       "      <td>[9974]</td>\n",
       "      <td>[2]</td>\n",
       "      <td>[1.9958635568618774]</td>\n",
       "      <td>1.0</td>\n",
       "      <td>NaN</td>\n",
       "      <td>NaN</td>\n",
       "    </tr>\n",
       "    <tr>\n",
       "      <th>17</th>\n",
       "      <td>[24574]</td>\n",
       "      <td>[2]</td>\n",
       "      <td>[2.098637104034424]</td>\n",
       "      <td>1.0</td>\n",
       "      <td>NaN</td>\n",
       "      <td>NaN</td>\n",
       "    </tr>\n",
       "    <tr>\n",
       "      <th>19</th>\n",
       "      <td>[27244, 6008]</td>\n",
       "      <td>[4, 1]</td>\n",
       "      <td>[2.2814276218414307, 2.1800355911254883]</td>\n",
       "      <td>1.0</td>\n",
       "      <td>1.000000</td>\n",
       "      <td>1.000000</td>\n",
       "    </tr>\n",
       "    <tr>\n",
       "      <th>21</th>\n",
       "      <td>[32150]</td>\n",
       "      <td>[2]</td>\n",
       "      <td>[1.897545337677002]</td>\n",
       "      <td>1.0</td>\n",
       "      <td>NaN</td>\n",
       "      <td>NaN</td>\n",
       "    </tr>\n",
       "    <tr>\n",
       "      <th>23</th>\n",
       "      <td>[2738, 30037, 17348, 16235, 10742, 16240, 3784...</td>\n",
       "      <td>[2, 1, 4, 3, 4, 3, 2, 3]</td>\n",
       "      <td>[2.344412088394165, 2.3338565826416016, 2.3182...</td>\n",
       "      <td>1.0</td>\n",
       "      <td>0.333333</td>\n",
       "      <td>0.333333</td>\n",
       "    </tr>\n",
       "    <tr>\n",
       "      <th>25</th>\n",
       "      <td>[11621, 42072, 18232, 19003, 19001, 10669, 267...</td>\n",
       "      <td>[2, 2, 2, 1, 2, 3, 2, 2, 2, 2, 1, 1]</td>\n",
       "      <td>[2.158217191696167, 2.0767412185668945, 2.0643...</td>\n",
       "      <td>1.0</td>\n",
       "      <td>0.166667</td>\n",
       "      <td>NaN</td>\n",
       "    </tr>\n",
       "    <tr>\n",
       "      <th>26</th>\n",
       "      <td>[40687, 8139]</td>\n",
       "      <td>[2, 2]</td>\n",
       "      <td>[2.10308837890625, 1.910887598991394]</td>\n",
       "      <td>1.0</td>\n",
       "      <td>NaN</td>\n",
       "      <td>NaN</td>\n",
       "    </tr>\n",
       "    <tr>\n",
       "      <th>31</th>\n",
       "      <td>[32620, 25309]</td>\n",
       "      <td>[1, 1]</td>\n",
       "      <td>[2.049562931060791, 2.030498743057251]</td>\n",
       "      <td>NaN</td>\n",
       "      <td>NaN</td>\n",
       "      <td>NaN</td>\n",
       "    </tr>\n",
       "    <tr>\n",
       "      <th>35</th>\n",
       "      <td>[6926, 5907, 9158, 2693, 10935, 2647, 28348, 5...</td>\n",
       "      <td>[1, 2, 2, 2, 1, 4, 4, 1, 1, 2, 1, 2]</td>\n",
       "      <td>[2.155121088027954, 2.127891778945923, 2.10012...</td>\n",
       "      <td>0.5</td>\n",
       "      <td>0.166667</td>\n",
       "      <td>0.166667</td>\n",
       "    </tr>\n",
       "    <tr>\n",
       "      <th>42</th>\n",
       "      <td>[6621, 12551, 37759, 38989, 626, 40869, 17704,...</td>\n",
       "      <td>[2, 1, 2, 1, 3, 3, 2, 1, 2, 2, 3, 1, 1, 3, 1, ...</td>\n",
       "      <td>[2.3331501483917236, 2.2854487895965576, 2.285...</td>\n",
       "      <td>1.0</td>\n",
       "      <td>0.200000</td>\n",
       "      <td>NaN</td>\n",
       "    </tr>\n",
       "    <tr>\n",
       "      <th>45</th>\n",
       "      <td>[17706, 14577, 14783, 21633, 2254, 8080, 19072...</td>\n",
       "      <td>[1, 2, 2, 2, 3, 2, 3, 2]</td>\n",
       "      <td>[2.3573787212371826, 2.2978484630584717, 2.274...</td>\n",
       "      <td>0.5</td>\n",
       "      <td>0.200000</td>\n",
       "      <td>NaN</td>\n",
       "    </tr>\n",
       "    <tr>\n",
       "      <th>48</th>\n",
       "      <td>[27267]</td>\n",
       "      <td>[2]</td>\n",
       "      <td>[2.0999276638031006]</td>\n",
       "      <td>1.0</td>\n",
       "      <td>NaN</td>\n",
       "      <td>NaN</td>\n",
       "    </tr>\n",
       "    <tr>\n",
       "      <th>51</th>\n",
       "      <td>[22547]</td>\n",
       "      <td>[2]</td>\n",
       "      <td>[2.0014758110046387]</td>\n",
       "      <td>1.0</td>\n",
       "      <td>NaN</td>\n",
       "      <td>NaN</td>\n",
       "    </tr>\n",
       "    <tr>\n",
       "      <th>52</th>\n",
       "      <td>[29986, 17896, 8317, 26339, 17870, 17887, 2802...</td>\n",
       "      <td>[1, 3, 1, 1, 1, 1, 1, 1, 1, 1, 1, 1, 1, 1, 1, ...</td>\n",
       "      <td>[2.061854839324951, 2.0189878940582275, 2.0094...</td>\n",
       "      <td>0.5</td>\n",
       "      <td>0.500000</td>\n",
       "      <td>NaN</td>\n",
       "    </tr>\n",
       "    <tr>\n",
       "      <th>53</th>\n",
       "      <td>[18144]</td>\n",
       "      <td>[2]</td>\n",
       "      <td>[1.9830719232559204]</td>\n",
       "      <td>1.0</td>\n",
       "      <td>NaN</td>\n",
       "      <td>NaN</td>\n",
       "    </tr>\n",
       "    <tr>\n",
       "      <th>54</th>\n",
       "      <td>[16684, 1891, 2164, 11787, 41117]</td>\n",
       "      <td>[4, 4, 4, 4, 2]</td>\n",
       "      <td>[2.396451234817505, 2.3891894817352295, 2.3804...</td>\n",
       "      <td>1.0</td>\n",
       "      <td>1.000000</td>\n",
       "      <td>1.000000</td>\n",
       "    </tr>\n",
       "    <tr>\n",
       "      <th>56</th>\n",
       "      <td>[10855]</td>\n",
       "      <td>[4]</td>\n",
       "      <td>[2.117133617401123]</td>\n",
       "      <td>1.0</td>\n",
       "      <td>1.000000</td>\n",
       "      <td>1.000000</td>\n",
       "    </tr>\n",
       "    <tr>\n",
       "      <th>58</th>\n",
       "      <td>[28283]</td>\n",
       "      <td>[2]</td>\n",
       "      <td>[1.9086387157440186]</td>\n",
       "      <td>1.0</td>\n",
       "      <td>NaN</td>\n",
       "      <td>NaN</td>\n",
       "    </tr>\n",
       "    <tr>\n",
       "      <th>60</th>\n",
       "      <td>[30657]</td>\n",
       "      <td>[2]</td>\n",
       "      <td>[2.0296480655670166]</td>\n",
       "      <td>1.0</td>\n",
       "      <td>NaN</td>\n",
       "      <td>NaN</td>\n",
       "    </tr>\n",
       "    <tr>\n",
       "      <th>63</th>\n",
       "      <td>[22419, 19710, 26470, 274, 15791, 20502, 17609...</td>\n",
       "      <td>[2, 1, 2, 2, 2, 4, 4, 4, 1]</td>\n",
       "      <td>[2.516556739807129, 2.4130070209503174, 2.4007...</td>\n",
       "      <td>1.0</td>\n",
       "      <td>0.166667</td>\n",
       "      <td>0.166667</td>\n",
       "    </tr>\n",
       "    <tr>\n",
       "      <th>66</th>\n",
       "      <td>[25495, 7492, 10801, 16524, 19369, 17821, 1661...</td>\n",
       "      <td>[3, 3, 3, 2, 2, 2, 2, 1, 2]</td>\n",
       "      <td>[2.2935290336608887, 2.2552080154418945, 2.241...</td>\n",
       "      <td>1.0</td>\n",
       "      <td>1.000000</td>\n",
       "      <td>NaN</td>\n",
       "    </tr>\n",
       "    <tr>\n",
       "      <th>67</th>\n",
       "      <td>[39027]</td>\n",
       "      <td>[2]</td>\n",
       "      <td>[2.0926501750946045]</td>\n",
       "      <td>1.0</td>\n",
       "      <td>NaN</td>\n",
       "      <td>NaN</td>\n",
       "    </tr>\n",
       "  </tbody>\n",
       "</table>\n",
       "</div>"
      ],
      "text/plain": [
       "                                              list_product  \\\n",
       "user_id                                                      \n",
       "0                                                    [306]   \n",
       "1                         [19372, 41191, 8233, 8195, 8178]   \n",
       "2                                 [1634, 10508, 112, 1294]   \n",
       "6                       [18143, 40554, 38370, 7701, 18561]   \n",
       "7                                                  [12272]   \n",
       "8        [21645, 36095, 41647, 38368, 38367, 43005, 284...   \n",
       "12                                          [18143, 41110]   \n",
       "15                                          [13215, 33614]   \n",
       "16                                                  [9974]   \n",
       "17                                                 [24574]   \n",
       "19                                           [27244, 6008]   \n",
       "21                                                 [32150]   \n",
       "23       [2738, 30037, 17348, 16235, 10742, 16240, 3784...   \n",
       "25       [11621, 42072, 18232, 19003, 19001, 10669, 267...   \n",
       "26                                           [40687, 8139]   \n",
       "31                                          [32620, 25309]   \n",
       "35       [6926, 5907, 9158, 2693, 10935, 2647, 28348, 5...   \n",
       "42       [6621, 12551, 37759, 38989, 626, 40869, 17704,...   \n",
       "45       [17706, 14577, 14783, 21633, 2254, 8080, 19072...   \n",
       "48                                                 [27267]   \n",
       "51                                                 [22547]   \n",
       "52       [29986, 17896, 8317, 26339, 17870, 17887, 2802...   \n",
       "53                                                 [18144]   \n",
       "54                       [16684, 1891, 2164, 11787, 41117]   \n",
       "56                                                 [10855]   \n",
       "58                                                 [28283]   \n",
       "60                                                 [30657]   \n",
       "63       [22419, 19710, 26470, 274, 15791, 20502, 17609...   \n",
       "66       [25495, 7492, 10801, 16524, 19369, 17821, 1661...   \n",
       "67                                                 [39027]   \n",
       "\n",
       "                                                    rating  \\\n",
       "user_id                                                      \n",
       "0                                                      [2]   \n",
       "1                                          [2, 2, 2, 2, 2]   \n",
       "2                                             [3, 3, 3, 3]   \n",
       "6                                          [4, 1, 2, 1, 4]   \n",
       "7                                                      [4]   \n",
       "8                              [1, 2, 2, 1, 1, 3, 4, 2, 1]   \n",
       "12                                                  [3, 2]   \n",
       "15                                                  [3, 2]   \n",
       "16                                                     [2]   \n",
       "17                                                     [2]   \n",
       "19                                                  [4, 1]   \n",
       "21                                                     [2]   \n",
       "23                                [2, 1, 4, 3, 4, 3, 2, 3]   \n",
       "25                    [2, 2, 2, 1, 2, 3, 2, 2, 2, 2, 1, 1]   \n",
       "26                                                  [2, 2]   \n",
       "31                                                  [1, 1]   \n",
       "35                    [1, 2, 2, 2, 1, 4, 4, 1, 1, 2, 1, 2]   \n",
       "42       [2, 1, 2, 1, 3, 3, 2, 1, 2, 2, 3, 1, 1, 3, 1, ...   \n",
       "45                                [1, 2, 2, 2, 3, 2, 3, 2]   \n",
       "48                                                     [2]   \n",
       "51                                                     [2]   \n",
       "52       [1, 3, 1, 1, 1, 1, 1, 1, 1, 1, 1, 1, 1, 1, 1, ...   \n",
       "53                                                     [2]   \n",
       "54                                         [4, 4, 4, 4, 2]   \n",
       "56                                                     [4]   \n",
       "58                                                     [2]   \n",
       "60                                                     [2]   \n",
       "63                             [2, 1, 2, 2, 2, 4, 4, 4, 1]   \n",
       "66                             [3, 3, 3, 2, 2, 2, 2, 1, 2]   \n",
       "67                                                     [2]   \n",
       "\n",
       "                                                      yhat  \\\n",
       "user_id                                                      \n",
       "0                                      [2.062591075897217]   \n",
       "1        [2.237269639968872, 2.087641477584839, 2.01859...   \n",
       "2        [2.1831133365631104, 2.1677510738372803, 2.132...   \n",
       "6        [2.1448442935943604, 2.1238598823547363, 2.025...   \n",
       "7                                      [2.166236162185669]   \n",
       "8        [2.508291006088257, 2.415562868118286, 2.38119...   \n",
       "12                 [2.0911200046539307, 2.011227607727051]   \n",
       "15                [2.2695810794830322, 2.2422780990600586]   \n",
       "16                                    [1.9958635568618774]   \n",
       "17                                     [2.098637104034424]   \n",
       "19                [2.2814276218414307, 2.1800355911254883]   \n",
       "21                                     [1.897545337677002]   \n",
       "23       [2.344412088394165, 2.3338565826416016, 2.3182...   \n",
       "25       [2.158217191696167, 2.0767412185668945, 2.0643...   \n",
       "26                   [2.10308837890625, 1.910887598991394]   \n",
       "31                  [2.049562931060791, 2.030498743057251]   \n",
       "35       [2.155121088027954, 2.127891778945923, 2.10012...   \n",
       "42       [2.3331501483917236, 2.2854487895965576, 2.285...   \n",
       "45       [2.3573787212371826, 2.2978484630584717, 2.274...   \n",
       "48                                    [2.0999276638031006]   \n",
       "51                                    [2.0014758110046387]   \n",
       "52       [2.061854839324951, 2.0189878940582275, 2.0094...   \n",
       "53                                    [1.9830719232559204]   \n",
       "54       [2.396451234817505, 2.3891894817352295, 2.3804...   \n",
       "56                                     [2.117133617401123]   \n",
       "58                                    [1.9086387157440186]   \n",
       "60                                    [2.0296480655670166]   \n",
       "63       [2.516556739807129, 2.4130070209503174, 2.4007...   \n",
       "66       [2.2935290336608887, 2.2552080154418945, 2.241...   \n",
       "67                                    [2.0926501750946045]   \n",
       "\n",
       "         reciprocal_rank_@2  reciprocal_rank_@3  reciprocal_rank_@4  \n",
       "user_id                                                              \n",
       "0                       1.0                 NaN                 NaN  \n",
       "1                       1.0                 NaN                 NaN  \n",
       "2                       1.0            1.000000                 NaN  \n",
       "6                       1.0            1.000000            1.000000  \n",
       "7                       1.0            1.000000            1.000000  \n",
       "8                       0.5            0.166667            0.142857  \n",
       "12                      1.0            1.000000                 NaN  \n",
       "15                      1.0            1.000000                 NaN  \n",
       "16                      1.0                 NaN                 NaN  \n",
       "17                      1.0                 NaN                 NaN  \n",
       "19                      1.0            1.000000            1.000000  \n",
       "21                      1.0                 NaN                 NaN  \n",
       "23                      1.0            0.333333            0.333333  \n",
       "25                      1.0            0.166667                 NaN  \n",
       "26                      1.0                 NaN                 NaN  \n",
       "31                      NaN                 NaN                 NaN  \n",
       "35                      0.5            0.166667            0.166667  \n",
       "42                      1.0            0.200000                 NaN  \n",
       "45                      0.5            0.200000                 NaN  \n",
       "48                      1.0                 NaN                 NaN  \n",
       "51                      1.0                 NaN                 NaN  \n",
       "52                      0.5            0.500000                 NaN  \n",
       "53                      1.0                 NaN                 NaN  \n",
       "54                      1.0            1.000000            1.000000  \n",
       "56                      1.0            1.000000            1.000000  \n",
       "58                      1.0                 NaN                 NaN  \n",
       "60                      1.0                 NaN                 NaN  \n",
       "63                      1.0            0.166667            0.166667  \n",
       "66                      1.0            1.000000                 NaN  \n",
       "67                      1.0                 NaN                 NaN  "
      ]
     },
     "execution_count": 30,
     "metadata": {},
     "output_type": "execute_result"
    }
   ],
   "source": [
    "test_eval.head(30)"
   ]
  },
  {
   "cell_type": "code",
   "execution_count": 31,
   "id": "dd7e51f3",
   "metadata": {
    "execution": {
     "iopub.execute_input": "2023-06-29T10:23:10.587996Z",
     "iopub.status.busy": "2023-06-29T10:23:10.587175Z",
     "iopub.status.idle": "2023-06-29T10:23:10.628068Z",
     "shell.execute_reply": "2023-06-29T10:23:10.625679Z"
    },
    "papermill": {
     "duration": 0.065286,
     "end_time": "2023-06-29T10:23:10.634290",
     "exception": false,
     "start_time": "2023-06-29T10:23:10.569004",
     "status": "completed"
    },
    "tags": []
   },
   "outputs": [
    {
     "data": {
      "text/html": [
       "<div>\n",
       "<style scoped>\n",
       "    .dataframe tbody tr th:only-of-type {\n",
       "        vertical-align: middle;\n",
       "    }\n",
       "\n",
       "    .dataframe tbody tr th {\n",
       "        vertical-align: top;\n",
       "    }\n",
       "\n",
       "    .dataframe thead th {\n",
       "        text-align: right;\n",
       "    }\n",
       "</style>\n",
       "<table border=\"1\" class=\"dataframe\">\n",
       "  <thead>\n",
       "    <tr style=\"text-align: right;\">\n",
       "      <th></th>\n",
       "      <th>reciprocal_rank_@2</th>\n",
       "      <th>reciprocal_rank_@3</th>\n",
       "      <th>reciprocal_rank_@4</th>\n",
       "    </tr>\n",
       "  </thead>\n",
       "  <tbody>\n",
       "    <tr>\n",
       "      <th>count</th>\n",
       "      <td>144039.000000</td>\n",
       "      <td>49049.000000</td>\n",
       "      <td>21388.000000</td>\n",
       "    </tr>\n",
       "    <tr>\n",
       "      <th>mean</th>\n",
       "      <td>0.961126</td>\n",
       "      <td>0.814088</td>\n",
       "      <td>0.765913</td>\n",
       "    </tr>\n",
       "    <tr>\n",
       "      <th>std</th>\n",
       "      <td>0.147398</td>\n",
       "      <td>0.293308</td>\n",
       "      <td>0.319336</td>\n",
       "    </tr>\n",
       "    <tr>\n",
       "      <th>min</th>\n",
       "      <td>0.021739</td>\n",
       "      <td>0.011111</td>\n",
       "      <td>0.005155</td>\n",
       "    </tr>\n",
       "    <tr>\n",
       "      <th>25%</th>\n",
       "      <td>1.000000</td>\n",
       "      <td>0.500000</td>\n",
       "      <td>0.500000</td>\n",
       "    </tr>\n",
       "    <tr>\n",
       "      <th>50%</th>\n",
       "      <td>1.000000</td>\n",
       "      <td>1.000000</td>\n",
       "      <td>1.000000</td>\n",
       "    </tr>\n",
       "    <tr>\n",
       "      <th>75%</th>\n",
       "      <td>1.000000</td>\n",
       "      <td>1.000000</td>\n",
       "      <td>1.000000</td>\n",
       "    </tr>\n",
       "    <tr>\n",
       "      <th>max</th>\n",
       "      <td>1.000000</td>\n",
       "      <td>1.000000</td>\n",
       "      <td>1.000000</td>\n",
       "    </tr>\n",
       "  </tbody>\n",
       "</table>\n",
       "</div>"
      ],
      "text/plain": [
       "       reciprocal_rank_@2  reciprocal_rank_@3  reciprocal_rank_@4\n",
       "count       144039.000000        49049.000000        21388.000000\n",
       "mean             0.961126            0.814088            0.765913\n",
       "std              0.147398            0.293308            0.319336\n",
       "min              0.021739            0.011111            0.005155\n",
       "25%              1.000000            0.500000            0.500000\n",
       "50%              1.000000            1.000000            1.000000\n",
       "75%              1.000000            1.000000            1.000000\n",
       "max              1.000000            1.000000            1.000000"
      ]
     },
     "execution_count": 31,
     "metadata": {},
     "output_type": "execute_result"
    }
   ],
   "source": [
    "test_eval.describe()"
   ]
  },
  {
   "cell_type": "code",
   "execution_count": 32,
   "id": "4e7214cd",
   "metadata": {
    "execution": {
     "iopub.execute_input": "2023-06-29T10:23:10.700969Z",
     "iopub.status.busy": "2023-06-29T10:23:10.700609Z",
     "iopub.status.idle": "2023-06-29T10:23:12.011716Z",
     "shell.execute_reply": "2023-06-29T10:23:12.009236Z"
    },
    "papermill": {
     "duration": 1.347257,
     "end_time": "2023-06-29T10:23:12.014664",
     "exception": false,
     "start_time": "2023-06-29T10:23:10.667407",
     "status": "completed"
    },
    "tags": []
   },
   "outputs": [
    {
     "data": {
      "text/plain": [
       "array([[<Axes: title={'center': 'reciprocal_rank_@2'}>,\n",
       "        <Axes: title={'center': 'reciprocal_rank_@3'}>],\n",
       "       [<Axes: title={'center': 'reciprocal_rank_@4'}>, <Axes: >]],\n",
       "      dtype=object)"
      ]
     },
     "execution_count": 32,
     "metadata": {},
     "output_type": "execute_result"
    },
    {
     "data": {
      "image/png": "[encoded data removed]",
      "text/plain": [
       "<Figure size 640x480 with 4 Axes>"
      ]
     },
     "metadata": {},
     "output_type": "display_data"
    }
   ],
   "source": [
    "test_eval.hist()"
   ]
  },
  {
   "cell_type": "code",
   "execution_count": null,
   "id": "c7862262",
   "metadata": {
    "papermill": {
     "duration": 0.026268,
     "end_time": "2023-06-29T10:23:12.069387",
     "exception": false,
     "start_time": "2023-06-29T10:23:12.043119",
     "status": "completed"
    },
    "tags": []
   },
   "outputs": [],
   "source": []
  }
 ],
 "metadata": {
  "kernelspec": {
   "display_name": "Python 3",
   "language": "python",
   "name": "python3"
  },
  "language_info": {
   "codemirror_mode": {
    "name": "ipython",
    "version": 3
   },
   "file_extension": ".py",
   "mimetype": "text/x-python",
   "name": "python",
   "nbconvert_exporter": "python",
   "pygments_lexer": "ipython3",
   "version": "3.10.10"
  },
  "papermill": {
   "default_parameters": {},
   "duration": 124.970749,
   "end_time": "2023-06-29T10:23:15.971843",
   "environment_variables": {},
   "exception": null,
   "input_path": "__notebook__.ipynb",
   "output_path": "__notebook__.ipynb",
   "parameters": {},
   "start_time": "2023-06-29T10:21:11.001094",
   "version": "2.4.0"
  }
 },
 "nbformat": 4,
 "nbformat_minor": 5
}
